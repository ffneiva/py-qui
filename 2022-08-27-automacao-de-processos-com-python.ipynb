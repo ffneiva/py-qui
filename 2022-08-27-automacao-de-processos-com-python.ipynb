{
  "cells": [
    {
      "cell_type": "markdown",
      "metadata": {
        "id": "view-in-github",
        "colab_type": "text"
      },
      "source": [
        "<a href=\"https://colab.research.google.com/github/ffneiva/py-qui/blob/main/27-08-2022-automacao-de-processos-com-python.ipynb\" target=\"_parent\"><img src=\"https://colab.research.google.com/assets/colab-badge.svg\" alt=\"Open In Colab\"/></a>"
      ]
    },
    {
      "cell_type": "code",
      "execution_count": null,
      "metadata": {
        "id": "RN8X1OKoBMJ0",
        "colab": {
          "base_uri": "https://localhost:8080/"
        },
        "outputId": "aa5a2c18-5faa-4db8-b401-f14932127cf3"
      },
      "outputs": [
        {
          "output_type": "stream",
          "name": "stdout",
          "text": [
            "Drive already mounted at /content/drive; to attempt to forcibly remount, call drive.mount(\"/content/drive\", force_remount=True).\n"
          ]
        }
      ],
      "source": [
        "from google.colab import drive\n",
        "drive.mount('/content/drive')"
      ]
    },
    {
      "cell_type": "markdown",
      "metadata": {
        "id": "I1w54SaNENgb"
      },
      "source": [
        "# Automação de Processos"
      ]
    },
    {
      "cell_type": "markdown",
      "metadata": {
        "id": "gRo2EeYhfN6L"
      },
      "source": [
        "### 1. Objetivos"
      ]
    },
    {
      "cell_type": "markdown",
      "metadata": {
        "id": "-keZkQSHfTmA"
      },
      "source": [
        "- Analisar uma base de dados extensa\n",
        "- Coletar dados da internet (web scraping)\n",
        "- Enviar e-mails com imagens e tabelas geradas em python"
      ]
    },
    {
      "cell_type": "markdown",
      "metadata": {
        "id": "iVQ17baafUsx"
      },
      "source": [
        "##### Passo a passo"
      ]
    },
    {
      "cell_type": "markdown",
      "metadata": {
        "id": "hR8jSagDfWaC"
      },
      "source": [
        "1. Importar e tratar base de dados\n",
        "2. Pegar valor do dólar em tempo real\n",
        "3. Calcular indicadores\n",
        "4. Enviar e-mail para cada loja"
      ]
    },
    {
      "cell_type": "markdown",
      "metadata": {
        "id": "vx6nyvuEhXdX"
      },
      "source": [
        "### 2. Importar base de dados"
      ]
    },
    {
      "cell_type": "code",
      "execution_count": null,
      "metadata": {
        "id": "OJgRVSZzKbBt"
      },
      "outputs": [],
      "source": [
        "import pandas as pd\n",
        "\n",
        "caminho = '/content/drive/MyDrive/0. Pasta/base_dados.xlsx'\n",
        "vendas = pd.read_excel(caminho)\n",
        "vendas"
      ]
    },
    {
      "cell_type": "code",
      "source": [
        "produtos = pd.read_excel(caminho, sheet_name='Produtos')\n",
        "produtos"
      ],
      "metadata": {
        "id": "Ujmgf_rTZvAO"
      },
      "execution_count": null,
      "outputs": []
    },
    {
      "cell_type": "code",
      "execution_count": null,
      "metadata": {
        "colab": {
          "base_uri": "https://localhost:8080/",
          "height": 269
        },
        "id": "tnfFJk2ChhJ7",
        "outputId": "c4c6c872-0a58-4186-d2cc-8bcb34a00531"
      },
      "outputs": [
        {
          "output_type": "execute_result",
          "data": {
            "text/plain": [
              "                         Loja                E-mail\n",
              "0                  Avenida 44  ff.python1@gmail.com\n",
              "1                  Avenida 85  ff.python2@gmail.com\n",
              "2          Avenida Anhanguera  ff.python5@gmail.com\n",
              "3            Goiânia Shopping  ff.python6@gmail.com\n",
              "4  Shopping Passeio das Águas  ff.python7@gmail.com\n",
              "5         Shopping Flamboyant  ff.python8@gmail.com\n",
              "6       Shopping Bougainville  ff.python9@gmail.com"
            ],
            "text/html": [
              "\n",
              "  <div id=\"df-18fffd83-a041-4113-bcdb-63babb88e9c8\">\n",
              "    <div class=\"colab-df-container\">\n",
              "      <div>\n",
              "<style scoped>\n",
              "    .dataframe tbody tr th:only-of-type {\n",
              "        vertical-align: middle;\n",
              "    }\n",
              "\n",
              "    .dataframe tbody tr th {\n",
              "        vertical-align: top;\n",
              "    }\n",
              "\n",
              "    .dataframe thead th {\n",
              "        text-align: right;\n",
              "    }\n",
              "</style>\n",
              "<table border=\"1\" class=\"dataframe\">\n",
              "  <thead>\n",
              "    <tr style=\"text-align: right;\">\n",
              "      <th></th>\n",
              "      <th>Loja</th>\n",
              "      <th>E-mail</th>\n",
              "    </tr>\n",
              "  </thead>\n",
              "  <tbody>\n",
              "    <tr>\n",
              "      <th>0</th>\n",
              "      <td>Avenida 44</td>\n",
              "      <td>ff.python1@gmail.com</td>\n",
              "    </tr>\n",
              "    <tr>\n",
              "      <th>1</th>\n",
              "      <td>Avenida 85</td>\n",
              "      <td>ff.python2@gmail.com</td>\n",
              "    </tr>\n",
              "    <tr>\n",
              "      <th>2</th>\n",
              "      <td>Avenida Anhanguera</td>\n",
              "      <td>ff.python5@gmail.com</td>\n",
              "    </tr>\n",
              "    <tr>\n",
              "      <th>3</th>\n",
              "      <td>Goiânia Shopping</td>\n",
              "      <td>ff.python6@gmail.com</td>\n",
              "    </tr>\n",
              "    <tr>\n",
              "      <th>4</th>\n",
              "      <td>Shopping Passeio das Águas</td>\n",
              "      <td>ff.python7@gmail.com</td>\n",
              "    </tr>\n",
              "    <tr>\n",
              "      <th>5</th>\n",
              "      <td>Shopping Flamboyant</td>\n",
              "      <td>ff.python8@gmail.com</td>\n",
              "    </tr>\n",
              "    <tr>\n",
              "      <th>6</th>\n",
              "      <td>Shopping Bougainville</td>\n",
              "      <td>ff.python9@gmail.com</td>\n",
              "    </tr>\n",
              "  </tbody>\n",
              "</table>\n",
              "</div>\n",
              "      <button class=\"colab-df-convert\" onclick=\"convertToInteractive('df-18fffd83-a041-4113-bcdb-63babb88e9c8')\"\n",
              "              title=\"Convert this dataframe to an interactive table.\"\n",
              "              style=\"display:none;\">\n",
              "        \n",
              "  <svg xmlns=\"http://www.w3.org/2000/svg\" height=\"24px\"viewBox=\"0 0 24 24\"\n",
              "       width=\"24px\">\n",
              "    <path d=\"M0 0h24v24H0V0z\" fill=\"none\"/>\n",
              "    <path d=\"M18.56 5.44l.94 2.06.94-2.06 2.06-.94-2.06-.94-.94-2.06-.94 2.06-2.06.94zm-11 1L8.5 8.5l.94-2.06 2.06-.94-2.06-.94L8.5 2.5l-.94 2.06-2.06.94zm10 10l.94 2.06.94-2.06 2.06-.94-2.06-.94-.94-2.06-.94 2.06-2.06.94z\"/><path d=\"M17.41 7.96l-1.37-1.37c-.4-.4-.92-.59-1.43-.59-.52 0-1.04.2-1.43.59L10.3 9.45l-7.72 7.72c-.78.78-.78 2.05 0 2.83L4 21.41c.39.39.9.59 1.41.59.51 0 1.02-.2 1.41-.59l7.78-7.78 2.81-2.81c.8-.78.8-2.07 0-2.86zM5.41 20L4 18.59l7.72-7.72 1.47 1.35L5.41 20z\"/>\n",
              "  </svg>\n",
              "      </button>\n",
              "      \n",
              "  <style>\n",
              "    .colab-df-container {\n",
              "      display:flex;\n",
              "      flex-wrap:wrap;\n",
              "      gap: 12px;\n",
              "    }\n",
              "\n",
              "    .colab-df-convert {\n",
              "      background-color: #E8F0FE;\n",
              "      border: none;\n",
              "      border-radius: 50%;\n",
              "      cursor: pointer;\n",
              "      display: none;\n",
              "      fill: #1967D2;\n",
              "      height: 32px;\n",
              "      padding: 0 0 0 0;\n",
              "      width: 32px;\n",
              "    }\n",
              "\n",
              "    .colab-df-convert:hover {\n",
              "      background-color: #E2EBFA;\n",
              "      box-shadow: 0px 1px 2px rgba(60, 64, 67, 0.3), 0px 1px 3px 1px rgba(60, 64, 67, 0.15);\n",
              "      fill: #174EA6;\n",
              "    }\n",
              "\n",
              "    [theme=dark] .colab-df-convert {\n",
              "      background-color: #3B4455;\n",
              "      fill: #D2E3FC;\n",
              "    }\n",
              "\n",
              "    [theme=dark] .colab-df-convert:hover {\n",
              "      background-color: #434B5C;\n",
              "      box-shadow: 0px 1px 3px 1px rgba(0, 0, 0, 0.15);\n",
              "      filter: drop-shadow(0px 1px 2px rgba(0, 0, 0, 0.3));\n",
              "      fill: #FFFFFF;\n",
              "    }\n",
              "  </style>\n",
              "\n",
              "      <script>\n",
              "        const buttonEl =\n",
              "          document.querySelector('#df-18fffd83-a041-4113-bcdb-63babb88e9c8 button.colab-df-convert');\n",
              "        buttonEl.style.display =\n",
              "          google.colab.kernel.accessAllowed ? 'block' : 'none';\n",
              "\n",
              "        async function convertToInteractive(key) {\n",
              "          const element = document.querySelector('#df-18fffd83-a041-4113-bcdb-63babb88e9c8');\n",
              "          const dataTable =\n",
              "            await google.colab.kernel.invokeFunction('convertToInteractive',\n",
              "                                                     [key], {});\n",
              "          if (!dataTable) return;\n",
              "\n",
              "          const docLinkHtml = 'Like what you see? Visit the ' +\n",
              "            '<a target=\"_blank\" href=https://colab.research.google.com/notebooks/data_table.ipynb>data table notebook</a>'\n",
              "            + ' to learn more about interactive tables.';\n",
              "          element.innerHTML = '';\n",
              "          dataTable['output_type'] = 'display_data';\n",
              "          await google.colab.output.renderOutput(dataTable, element);\n",
              "          const docLink = document.createElement('div');\n",
              "          docLink.innerHTML = docLinkHtml;\n",
              "          element.appendChild(docLink);\n",
              "        }\n",
              "      </script>\n",
              "    </div>\n",
              "  </div>\n",
              "  "
            ]
          },
          "metadata": {},
          "execution_count": 11
        }
      ],
      "source": [
        "emails = pd.read_excel(caminho, sheet_name='E-mails')\n",
        "emails"
      ]
    },
    {
      "cell_type": "markdown",
      "source": [
        "##### Tratar base de dados"
      ],
      "metadata": {
        "id": "K5kVNuemg3FO"
      }
    },
    {
      "cell_type": "code",
      "source": [
        "vendas.info()"
      ],
      "metadata": {
        "colab": {
          "base_uri": "https://localhost:8080/"
        },
        "id": "r1tau0XBaxHR",
        "outputId": "f7dbfcf9-45a4-48d7-819d-c5f7cfd8d7fc"
      },
      "execution_count": null,
      "outputs": [
        {
          "output_type": "stream",
          "name": "stdout",
          "text": [
            "<class 'pandas.core.frame.DataFrame'>\n",
            "RangeIndex: 1048575 entries, 0 to 1048574\n",
            "Data columns (total 4 columns):\n",
            " #   Column      Non-Null Count    Dtype \n",
            "---  ------      --------------    ----- \n",
            " 0   Data        1048572 non-null  object\n",
            " 1   Loja        1048573 non-null  object\n",
            " 2   Produto     1048562 non-null  object\n",
            " 3   Quantidade  1048575 non-null  int64 \n",
            "dtypes: int64(1), object(3)\n",
            "memory usage: 32.0+ MB\n"
          ]
        }
      ]
    },
    {
      "cell_type": "code",
      "source": [
        "vendas['Data'] = pd.to_datetime(vendas['Data'], \n",
        "                                format='%Y-%m-%d %H:%M:%S',\n",
        "                                errors='coerce')\n",
        "vendas = vendas.dropna()\n",
        "vendas"
      ],
      "metadata": {
        "id": "Mk_p0LFeg49n"
      },
      "execution_count": null,
      "outputs": []
    },
    {
      "cell_type": "markdown",
      "source": [
        "##### Calcular o lucro de cada produto"
      ],
      "metadata": {
        "id": "VPEJo25MeIKm"
      }
    },
    {
      "cell_type": "code",
      "source": [
        "produtos['Lucro'] = produtos['Valor Unitário (US$)'] - produtos['Custo Unitário (US$)']\n",
        "produtos"
      ],
      "metadata": {
        "id": "BXqrRIj4eRTq"
      },
      "execution_count": null,
      "outputs": []
    },
    {
      "cell_type": "markdown",
      "source": [
        "##### Calcular os valores totais de cada venda"
      ],
      "metadata": {
        "id": "UL54YfFQesOb"
      }
    },
    {
      "cell_type": "code",
      "source": [
        "venda = vendas.merge(produtos, how='outer', on='Produto')\n",
        "venda['Lucro'] = venda['Lucro'] * venda['Quantidade']\n",
        "venda['Valor Unitário (US$)'] = venda['Valor Unitário (US$)'] * venda['Quantidade']\n",
        "venda['Custo Unitário (US$)'] = venda['Custo Unitário (US$)'] * venda['Quantidade']\n",
        "venda = venda.rename(columns={'Valor Unitário (US$)': 'Valor Total',\n",
        "                              'Custo Unitário (US$)': 'Custo Total'})\n",
        "venda"
      ],
      "metadata": {
        "id": "7v7ettuOesuX"
      },
      "execution_count": null,
      "outputs": []
    },
    {
      "cell_type": "markdown",
      "metadata": {
        "id": "xBNbcWmojNm0"
      },
      "source": [
        "### 3. Pegar cotação do dólar em tempo real"
      ]
    },
    {
      "cell_type": "code",
      "execution_count": null,
      "metadata": {
        "colab": {
          "base_uri": "https://localhost:8080/"
        },
        "id": "sumZ7wtljRk4",
        "outputId": "f50327ec-302e-4c07-ce95-ede03f5c95eb"
      },
      "outputs": [
        {
          "output_type": "stream",
          "name": "stdout",
          "text": [
            "5.0623\n"
          ]
        }
      ],
      "source": [
        "import requests\n",
        "from bs4 import BeautifulSoup\n",
        "\n",
        "link = 'https://br.investing.com/currencies/usd-brl'\n",
        "pagina = requests.get(link)\n",
        "sopa = BeautifulSoup(pagina.content, 'html.parser')\n",
        "resposta = sopa.find('span', class_='text-2xl')\n",
        "dolar = float(resposta.getText().replace(',', '.'))\n",
        "print(dolar)"
      ]
    },
    {
      "cell_type": "markdown",
      "metadata": {
        "id": "mc8ObXmCzx9H"
      },
      "source": [
        "##### Atualizar valores da tabela"
      ]
    },
    {
      "cell_type": "code",
      "execution_count": null,
      "metadata": {
        "colab": {
          "base_uri": "https://localhost:8080/"
        },
        "id": "TkD64dA0z_t1",
        "outputId": "6b8f537a-23f5-440b-f14f-e5cf56a17ae8"
      },
      "outputs": [
        {
          "output_type": "execute_result",
          "data": {
            "text/plain": [
              "              Data                        Loja Produto  Quantidade  \\\n",
              "0       2017-05-27                  Avenida 44   Short           2   \n",
              "1       2015-06-07          Avenida Anhanguera   Short           1   \n",
              "2       2018-03-23  Shopping Passeio das Águas   Short           5   \n",
              "3       2016-03-18                  Avenida 44   Short           2   \n",
              "4       2013-09-02                  Avenida 44   Short           5   \n",
              "...            ...                         ...     ...         ...   \n",
              "1048508 2013-12-22         Shopping Flamboyant   Cueca           3   \n",
              "1048509 2017-07-16            Goiânia Shopping   Cueca           1   \n",
              "1048510 2017-10-26                  Avenida 44   Cueca           5   \n",
              "1048511 2019-01-21          Avenida Anhanguera   Cueca           4   \n",
              "1048512 2015-02-23         Shopping Flamboyant   Cueca           6   \n",
              "\n",
              "         Valor Total  Custo Total      Lucro  \n",
              "0            122.328     33.23244   89.09556  \n",
              "1             61.164     16.61622   44.54778  \n",
              "2            305.820     83.08110  222.73890  \n",
              "3            122.328     33.23244   89.09556  \n",
              "4            305.820     83.08110  222.73890  \n",
              "...              ...          ...        ...  \n",
              "1048508       76.455     25.84179   50.61321  \n",
              "1048509       25.485      8.61393   16.87107  \n",
              "1048510      127.425     43.06965   84.35535  \n",
              "1048511      101.940     34.45572   67.48428  \n",
              "1048512      152.910     51.68358  101.22642  \n",
              "\n",
              "[1048513 rows x 7 columns]"
            ],
            "text/html": [
              "\n",
              "  <div id=\"df-4556921b-16ff-49f4-bad8-56394c346936\">\n",
              "    <div class=\"colab-df-container\">\n",
              "      <div>\n",
              "<style scoped>\n",
              "    .dataframe tbody tr th:only-of-type {\n",
              "        vertical-align: middle;\n",
              "    }\n",
              "\n",
              "    .dataframe tbody tr th {\n",
              "        vertical-align: top;\n",
              "    }\n",
              "\n",
              "    .dataframe thead th {\n",
              "        text-align: right;\n",
              "    }\n",
              "</style>\n",
              "<table border=\"1\" class=\"dataframe\">\n",
              "  <thead>\n",
              "    <tr style=\"text-align: right;\">\n",
              "      <th></th>\n",
              "      <th>Data</th>\n",
              "      <th>Loja</th>\n",
              "      <th>Produto</th>\n",
              "      <th>Quantidade</th>\n",
              "      <th>Valor Total</th>\n",
              "      <th>Custo Total</th>\n",
              "      <th>Lucro</th>\n",
              "    </tr>\n",
              "  </thead>\n",
              "  <tbody>\n",
              "    <tr>\n",
              "      <th>0</th>\n",
              "      <td>2017-05-27</td>\n",
              "      <td>Avenida 44</td>\n",
              "      <td>Short</td>\n",
              "      <td>2</td>\n",
              "      <td>122.328</td>\n",
              "      <td>33.23244</td>\n",
              "      <td>89.09556</td>\n",
              "    </tr>\n",
              "    <tr>\n",
              "      <th>1</th>\n",
              "      <td>2015-06-07</td>\n",
              "      <td>Avenida Anhanguera</td>\n",
              "      <td>Short</td>\n",
              "      <td>1</td>\n",
              "      <td>61.164</td>\n",
              "      <td>16.61622</td>\n",
              "      <td>44.54778</td>\n",
              "    </tr>\n",
              "    <tr>\n",
              "      <th>2</th>\n",
              "      <td>2018-03-23</td>\n",
              "      <td>Shopping Passeio das Águas</td>\n",
              "      <td>Short</td>\n",
              "      <td>5</td>\n",
              "      <td>305.820</td>\n",
              "      <td>83.08110</td>\n",
              "      <td>222.73890</td>\n",
              "    </tr>\n",
              "    <tr>\n",
              "      <th>3</th>\n",
              "      <td>2016-03-18</td>\n",
              "      <td>Avenida 44</td>\n",
              "      <td>Short</td>\n",
              "      <td>2</td>\n",
              "      <td>122.328</td>\n",
              "      <td>33.23244</td>\n",
              "      <td>89.09556</td>\n",
              "    </tr>\n",
              "    <tr>\n",
              "      <th>4</th>\n",
              "      <td>2013-09-02</td>\n",
              "      <td>Avenida 44</td>\n",
              "      <td>Short</td>\n",
              "      <td>5</td>\n",
              "      <td>305.820</td>\n",
              "      <td>83.08110</td>\n",
              "      <td>222.73890</td>\n",
              "    </tr>\n",
              "    <tr>\n",
              "      <th>...</th>\n",
              "      <td>...</td>\n",
              "      <td>...</td>\n",
              "      <td>...</td>\n",
              "      <td>...</td>\n",
              "      <td>...</td>\n",
              "      <td>...</td>\n",
              "      <td>...</td>\n",
              "    </tr>\n",
              "    <tr>\n",
              "      <th>1048508</th>\n",
              "      <td>2013-12-22</td>\n",
              "      <td>Shopping Flamboyant</td>\n",
              "      <td>Cueca</td>\n",
              "      <td>3</td>\n",
              "      <td>76.455</td>\n",
              "      <td>25.84179</td>\n",
              "      <td>50.61321</td>\n",
              "    </tr>\n",
              "    <tr>\n",
              "      <th>1048509</th>\n",
              "      <td>2017-07-16</td>\n",
              "      <td>Goiânia Shopping</td>\n",
              "      <td>Cueca</td>\n",
              "      <td>1</td>\n",
              "      <td>25.485</td>\n",
              "      <td>8.61393</td>\n",
              "      <td>16.87107</td>\n",
              "    </tr>\n",
              "    <tr>\n",
              "      <th>1048510</th>\n",
              "      <td>2017-10-26</td>\n",
              "      <td>Avenida 44</td>\n",
              "      <td>Cueca</td>\n",
              "      <td>5</td>\n",
              "      <td>127.425</td>\n",
              "      <td>43.06965</td>\n",
              "      <td>84.35535</td>\n",
              "    </tr>\n",
              "    <tr>\n",
              "      <th>1048511</th>\n",
              "      <td>2019-01-21</td>\n",
              "      <td>Avenida Anhanguera</td>\n",
              "      <td>Cueca</td>\n",
              "      <td>4</td>\n",
              "      <td>101.940</td>\n",
              "      <td>34.45572</td>\n",
              "      <td>67.48428</td>\n",
              "    </tr>\n",
              "    <tr>\n",
              "      <th>1048512</th>\n",
              "      <td>2015-02-23</td>\n",
              "      <td>Shopping Flamboyant</td>\n",
              "      <td>Cueca</td>\n",
              "      <td>6</td>\n",
              "      <td>152.910</td>\n",
              "      <td>51.68358</td>\n",
              "      <td>101.22642</td>\n",
              "    </tr>\n",
              "  </tbody>\n",
              "</table>\n",
              "<p>1048513 rows × 7 columns</p>\n",
              "</div>\n",
              "      <button class=\"colab-df-convert\" onclick=\"convertToInteractive('df-4556921b-16ff-49f4-bad8-56394c346936')\"\n",
              "              title=\"Convert this dataframe to an interactive table.\"\n",
              "              style=\"display:none;\">\n",
              "        \n",
              "  <svg xmlns=\"http://www.w3.org/2000/svg\" height=\"24px\"viewBox=\"0 0 24 24\"\n",
              "       width=\"24px\">\n",
              "    <path d=\"M0 0h24v24H0V0z\" fill=\"none\"/>\n",
              "    <path d=\"M18.56 5.44l.94 2.06.94-2.06 2.06-.94-2.06-.94-.94-2.06-.94 2.06-2.06.94zm-11 1L8.5 8.5l.94-2.06 2.06-.94-2.06-.94L8.5 2.5l-.94 2.06-2.06.94zm10 10l.94 2.06.94-2.06 2.06-.94-2.06-.94-.94-2.06-.94 2.06-2.06.94z\"/><path d=\"M17.41 7.96l-1.37-1.37c-.4-.4-.92-.59-1.43-.59-.52 0-1.04.2-1.43.59L10.3 9.45l-7.72 7.72c-.78.78-.78 2.05 0 2.83L4 21.41c.39.39.9.59 1.41.59.51 0 1.02-.2 1.41-.59l7.78-7.78 2.81-2.81c.8-.78.8-2.07 0-2.86zM5.41 20L4 18.59l7.72-7.72 1.47 1.35L5.41 20z\"/>\n",
              "  </svg>\n",
              "      </button>\n",
              "      \n",
              "  <style>\n",
              "    .colab-df-container {\n",
              "      display:flex;\n",
              "      flex-wrap:wrap;\n",
              "      gap: 12px;\n",
              "    }\n",
              "\n",
              "    .colab-df-convert {\n",
              "      background-color: #E8F0FE;\n",
              "      border: none;\n",
              "      border-radius: 50%;\n",
              "      cursor: pointer;\n",
              "      display: none;\n",
              "      fill: #1967D2;\n",
              "      height: 32px;\n",
              "      padding: 0 0 0 0;\n",
              "      width: 32px;\n",
              "    }\n",
              "\n",
              "    .colab-df-convert:hover {\n",
              "      background-color: #E2EBFA;\n",
              "      box-shadow: 0px 1px 2px rgba(60, 64, 67, 0.3), 0px 1px 3px 1px rgba(60, 64, 67, 0.15);\n",
              "      fill: #174EA6;\n",
              "    }\n",
              "\n",
              "    [theme=dark] .colab-df-convert {\n",
              "      background-color: #3B4455;\n",
              "      fill: #D2E3FC;\n",
              "    }\n",
              "\n",
              "    [theme=dark] .colab-df-convert:hover {\n",
              "      background-color: #434B5C;\n",
              "      box-shadow: 0px 1px 3px 1px rgba(0, 0, 0, 0.15);\n",
              "      filter: drop-shadow(0px 1px 2px rgba(0, 0, 0, 0.3));\n",
              "      fill: #FFFFFF;\n",
              "    }\n",
              "  </style>\n",
              "\n",
              "      <script>\n",
              "        const buttonEl =\n",
              "          document.querySelector('#df-4556921b-16ff-49f4-bad8-56394c346936 button.colab-df-convert');\n",
              "        buttonEl.style.display =\n",
              "          google.colab.kernel.accessAllowed ? 'block' : 'none';\n",
              "\n",
              "        async function convertToInteractive(key) {\n",
              "          const element = document.querySelector('#df-4556921b-16ff-49f4-bad8-56394c346936');\n",
              "          const dataTable =\n",
              "            await google.colab.kernel.invokeFunction('convertToInteractive',\n",
              "                                                     [key], {});\n",
              "          if (!dataTable) return;\n",
              "\n",
              "          const docLinkHtml = 'Like what you see? Visit the ' +\n",
              "            '<a target=\"_blank\" href=https://colab.research.google.com/notebooks/data_table.ipynb>data table notebook</a>'\n",
              "            + ' to learn more about interactive tables.';\n",
              "          element.innerHTML = '';\n",
              "          dataTable['output_type'] = 'display_data';\n",
              "          await google.colab.output.renderOutput(dataTable, element);\n",
              "          const docLink = document.createElement('div');\n",
              "          docLink.innerHTML = docLinkHtml;\n",
              "          element.appendChild(docLink);\n",
              "        }\n",
              "      </script>\n",
              "    </div>\n",
              "  </div>\n",
              "  "
            ]
          },
          "metadata": {},
          "execution_count": 17
        }
      ],
      "source": [
        "venda[['Valor Total', 'Custo Total', 'Lucro']] = \\\n",
        "    venda[['Valor Total', 'Custo Total', 'Lucro']] * dolar\n",
        "venda"
      ]
    },
    {
      "cell_type": "markdown",
      "metadata": {
        "id": "qD7DDOrfhd5B"
      },
      "source": [
        "### 4. Calcular indicadores para cada loja"
      ]
    },
    {
      "cell_type": "markdown",
      "source": [
        "##### Agrupar base de dados por loja"
      ],
      "metadata": {
        "id": "jAgo2sJEtmFm"
      }
    },
    {
      "cell_type": "code",
      "source": [
        "vendas_por_loja = venda.groupby('Loja').sum()\n",
        "vendas_por_loja"
      ],
      "metadata": {
        "colab": {
          "base_uri": "https://localhost:8080/",
          "height": 300
        },
        "id": "UbqzrzYvtPam",
        "outputId": "e766802b-be18-4c3a-e110-5f88f21efe30"
      },
      "execution_count": null,
      "outputs": [
        {
          "output_type": "execute_result",
          "data": {
            "text/plain": [
              "                            Quantidade   Valor Total   Custo Total  \\\n",
              "Loja                                                                 \n",
              "Avenida 44                      684989  8.058895e+07  2.378931e+07   \n",
              "Avenida 85                      237822  2.614470e+07  7.864549e+06   \n",
              "Avenida Anhanguera              413549  4.764055e+07  1.431636e+07   \n",
              "Goiânia Shopping                463001  4.893406e+07  1.484391e+07   \n",
              "Shopping Bougainville           146685  1.592636e+07  4.790325e+06   \n",
              "Shopping Flamboyant             576562  6.628006e+07  2.033224e+07   \n",
              "Shopping Passeio das Águas      484902  5.212779e+07  1.586424e+07   \n",
              "\n",
              "                                   Lucro  \n",
              "Loja                                      \n",
              "Avenida 44                  5.679964e+07  \n",
              "Avenida 85                  1.828016e+07  \n",
              "Avenida Anhanguera          3.332419e+07  \n",
              "Goiânia Shopping            3.409015e+07  \n",
              "Shopping Bougainville       1.113603e+07  \n",
              "Shopping Flamboyant         4.594783e+07  \n",
              "Shopping Passeio das Águas  3.626355e+07  "
            ],
            "text/html": [
              "\n",
              "  <div id=\"df-334e0ea7-e956-4a5f-aca5-72f60718c31d\">\n",
              "    <div class=\"colab-df-container\">\n",
              "      <div>\n",
              "<style scoped>\n",
              "    .dataframe tbody tr th:only-of-type {\n",
              "        vertical-align: middle;\n",
              "    }\n",
              "\n",
              "    .dataframe tbody tr th {\n",
              "        vertical-align: top;\n",
              "    }\n",
              "\n",
              "    .dataframe thead th {\n",
              "        text-align: right;\n",
              "    }\n",
              "</style>\n",
              "<table border=\"1\" class=\"dataframe\">\n",
              "  <thead>\n",
              "    <tr style=\"text-align: right;\">\n",
              "      <th></th>\n",
              "      <th>Quantidade</th>\n",
              "      <th>Valor Total</th>\n",
              "      <th>Custo Total</th>\n",
              "      <th>Lucro</th>\n",
              "    </tr>\n",
              "    <tr>\n",
              "      <th>Loja</th>\n",
              "      <th></th>\n",
              "      <th></th>\n",
              "      <th></th>\n",
              "      <th></th>\n",
              "    </tr>\n",
              "  </thead>\n",
              "  <tbody>\n",
              "    <tr>\n",
              "      <th>Avenida 44</th>\n",
              "      <td>684989</td>\n",
              "      <td>8.058895e+07</td>\n",
              "      <td>2.378931e+07</td>\n",
              "      <td>5.679964e+07</td>\n",
              "    </tr>\n",
              "    <tr>\n",
              "      <th>Avenida 85</th>\n",
              "      <td>237822</td>\n",
              "      <td>2.614470e+07</td>\n",
              "      <td>7.864549e+06</td>\n",
              "      <td>1.828016e+07</td>\n",
              "    </tr>\n",
              "    <tr>\n",
              "      <th>Avenida Anhanguera</th>\n",
              "      <td>413549</td>\n",
              "      <td>4.764055e+07</td>\n",
              "      <td>1.431636e+07</td>\n",
              "      <td>3.332419e+07</td>\n",
              "    </tr>\n",
              "    <tr>\n",
              "      <th>Goiânia Shopping</th>\n",
              "      <td>463001</td>\n",
              "      <td>4.893406e+07</td>\n",
              "      <td>1.484391e+07</td>\n",
              "      <td>3.409015e+07</td>\n",
              "    </tr>\n",
              "    <tr>\n",
              "      <th>Shopping Bougainville</th>\n",
              "      <td>146685</td>\n",
              "      <td>1.592636e+07</td>\n",
              "      <td>4.790325e+06</td>\n",
              "      <td>1.113603e+07</td>\n",
              "    </tr>\n",
              "    <tr>\n",
              "      <th>Shopping Flamboyant</th>\n",
              "      <td>576562</td>\n",
              "      <td>6.628006e+07</td>\n",
              "      <td>2.033224e+07</td>\n",
              "      <td>4.594783e+07</td>\n",
              "    </tr>\n",
              "    <tr>\n",
              "      <th>Shopping Passeio das Águas</th>\n",
              "      <td>484902</td>\n",
              "      <td>5.212779e+07</td>\n",
              "      <td>1.586424e+07</td>\n",
              "      <td>3.626355e+07</td>\n",
              "    </tr>\n",
              "  </tbody>\n",
              "</table>\n",
              "</div>\n",
              "      <button class=\"colab-df-convert\" onclick=\"convertToInteractive('df-334e0ea7-e956-4a5f-aca5-72f60718c31d')\"\n",
              "              title=\"Convert this dataframe to an interactive table.\"\n",
              "              style=\"display:none;\">\n",
              "        \n",
              "  <svg xmlns=\"http://www.w3.org/2000/svg\" height=\"24px\"viewBox=\"0 0 24 24\"\n",
              "       width=\"24px\">\n",
              "    <path d=\"M0 0h24v24H0V0z\" fill=\"none\"/>\n",
              "    <path d=\"M18.56 5.44l.94 2.06.94-2.06 2.06-.94-2.06-.94-.94-2.06-.94 2.06-2.06.94zm-11 1L8.5 8.5l.94-2.06 2.06-.94-2.06-.94L8.5 2.5l-.94 2.06-2.06.94zm10 10l.94 2.06.94-2.06 2.06-.94-2.06-.94-.94-2.06-.94 2.06-2.06.94z\"/><path d=\"M17.41 7.96l-1.37-1.37c-.4-.4-.92-.59-1.43-.59-.52 0-1.04.2-1.43.59L10.3 9.45l-7.72 7.72c-.78.78-.78 2.05 0 2.83L4 21.41c.39.39.9.59 1.41.59.51 0 1.02-.2 1.41-.59l7.78-7.78 2.81-2.81c.8-.78.8-2.07 0-2.86zM5.41 20L4 18.59l7.72-7.72 1.47 1.35L5.41 20z\"/>\n",
              "  </svg>\n",
              "      </button>\n",
              "      \n",
              "  <style>\n",
              "    .colab-df-container {\n",
              "      display:flex;\n",
              "      flex-wrap:wrap;\n",
              "      gap: 12px;\n",
              "    }\n",
              "\n",
              "    .colab-df-convert {\n",
              "      background-color: #E8F0FE;\n",
              "      border: none;\n",
              "      border-radius: 50%;\n",
              "      cursor: pointer;\n",
              "      display: none;\n",
              "      fill: #1967D2;\n",
              "      height: 32px;\n",
              "      padding: 0 0 0 0;\n",
              "      width: 32px;\n",
              "    }\n",
              "\n",
              "    .colab-df-convert:hover {\n",
              "      background-color: #E2EBFA;\n",
              "      box-shadow: 0px 1px 2px rgba(60, 64, 67, 0.3), 0px 1px 3px 1px rgba(60, 64, 67, 0.15);\n",
              "      fill: #174EA6;\n",
              "    }\n",
              "\n",
              "    [theme=dark] .colab-df-convert {\n",
              "      background-color: #3B4455;\n",
              "      fill: #D2E3FC;\n",
              "    }\n",
              "\n",
              "    [theme=dark] .colab-df-convert:hover {\n",
              "      background-color: #434B5C;\n",
              "      box-shadow: 0px 1px 3px 1px rgba(0, 0, 0, 0.15);\n",
              "      filter: drop-shadow(0px 1px 2px rgba(0, 0, 0, 0.3));\n",
              "      fill: #FFFFFF;\n",
              "    }\n",
              "  </style>\n",
              "\n",
              "      <script>\n",
              "        const buttonEl =\n",
              "          document.querySelector('#df-334e0ea7-e956-4a5f-aca5-72f60718c31d button.colab-df-convert');\n",
              "        buttonEl.style.display =\n",
              "          google.colab.kernel.accessAllowed ? 'block' : 'none';\n",
              "\n",
              "        async function convertToInteractive(key) {\n",
              "          const element = document.querySelector('#df-334e0ea7-e956-4a5f-aca5-72f60718c31d');\n",
              "          const dataTable =\n",
              "            await google.colab.kernel.invokeFunction('convertToInteractive',\n",
              "                                                     [key], {});\n",
              "          if (!dataTable) return;\n",
              "\n",
              "          const docLinkHtml = 'Like what you see? Visit the ' +\n",
              "            '<a target=\"_blank\" href=https://colab.research.google.com/notebooks/data_table.ipynb>data table notebook</a>'\n",
              "            + ' to learn more about interactive tables.';\n",
              "          element.innerHTML = '';\n",
              "          dataTable['output_type'] = 'display_data';\n",
              "          await google.colab.output.renderOutput(dataTable, element);\n",
              "          const docLink = document.createElement('div');\n",
              "          docLink.innerHTML = docLinkHtml;\n",
              "          element.appendChild(docLink);\n",
              "        }\n",
              "      </script>\n",
              "    </div>\n",
              "  </div>\n",
              "  "
            ]
          },
          "metadata": {},
          "execution_count": 18
        }
      ]
    },
    {
      "cell_type": "markdown",
      "metadata": {
        "id": "NW4ydDZ5BxxN"
      },
      "source": [
        "##### Cálculo do Ticket Médio"
      ]
    },
    {
      "cell_type": "code",
      "execution_count": null,
      "metadata": {
        "colab": {
          "base_uri": "https://localhost:8080/"
        },
        "id": "PMt-lnYcB1CC",
        "outputId": "249d849a-5a96-4d30-c795-bb28c7178fbc"
      },
      "outputs": [
        {
          "output_type": "execute_result",
          "data": {
            "text/plain": [
              "                            Quantidade   Valor Total   Custo Total  \\\n",
              "Loja                                                                 \n",
              "Avenida 44                      684989  8.058895e+07  2.378931e+07   \n",
              "Avenida 85                      237822  2.614470e+07  7.864549e+06   \n",
              "Avenida Anhanguera              413549  4.764055e+07  1.431636e+07   \n",
              "Goiânia Shopping                463001  4.893406e+07  1.484391e+07   \n",
              "Shopping Bougainville           146685  1.592636e+07  4.790325e+06   \n",
              "Shopping Flamboyant             576562  6.628006e+07  2.033224e+07   \n",
              "Shopping Passeio das Águas      484902  5.212779e+07  1.586424e+07   \n",
              "\n",
              "                             Faturamento  Ticket Médio  \n",
              "Loja                                                    \n",
              "Avenida 44                  5.679964e+07     82.920513  \n",
              "Avenida 85                  1.828016e+07     76.864864  \n",
              "Avenida Anhanguera          3.332419e+07     80.580990  \n",
              "Goiânia Shopping            3.409015e+07     73.628681  \n",
              "Shopping Bougainville       1.113603e+07     75.917999  \n",
              "Shopping Flamboyant         4.594783e+07     79.692775  \n",
              "Shopping Passeio das Águas  3.626355e+07     74.785326  "
            ],
            "text/html": [
              "\n",
              "  <div id=\"df-1df52f87-0939-49e3-8cb5-d64dad0bbd3d\">\n",
              "    <div class=\"colab-df-container\">\n",
              "      <div>\n",
              "<style scoped>\n",
              "    .dataframe tbody tr th:only-of-type {\n",
              "        vertical-align: middle;\n",
              "    }\n",
              "\n",
              "    .dataframe tbody tr th {\n",
              "        vertical-align: top;\n",
              "    }\n",
              "\n",
              "    .dataframe thead th {\n",
              "        text-align: right;\n",
              "    }\n",
              "</style>\n",
              "<table border=\"1\" class=\"dataframe\">\n",
              "  <thead>\n",
              "    <tr style=\"text-align: right;\">\n",
              "      <th></th>\n",
              "      <th>Quantidade</th>\n",
              "      <th>Valor Total</th>\n",
              "      <th>Custo Total</th>\n",
              "      <th>Faturamento</th>\n",
              "      <th>Ticket Médio</th>\n",
              "    </tr>\n",
              "    <tr>\n",
              "      <th>Loja</th>\n",
              "      <th></th>\n",
              "      <th></th>\n",
              "      <th></th>\n",
              "      <th></th>\n",
              "      <th></th>\n",
              "    </tr>\n",
              "  </thead>\n",
              "  <tbody>\n",
              "    <tr>\n",
              "      <th>Avenida 44</th>\n",
              "      <td>684989</td>\n",
              "      <td>8.058895e+07</td>\n",
              "      <td>2.378931e+07</td>\n",
              "      <td>5.679964e+07</td>\n",
              "      <td>82.920513</td>\n",
              "    </tr>\n",
              "    <tr>\n",
              "      <th>Avenida 85</th>\n",
              "      <td>237822</td>\n",
              "      <td>2.614470e+07</td>\n",
              "      <td>7.864549e+06</td>\n",
              "      <td>1.828016e+07</td>\n",
              "      <td>76.864864</td>\n",
              "    </tr>\n",
              "    <tr>\n",
              "      <th>Avenida Anhanguera</th>\n",
              "      <td>413549</td>\n",
              "      <td>4.764055e+07</td>\n",
              "      <td>1.431636e+07</td>\n",
              "      <td>3.332419e+07</td>\n",
              "      <td>80.580990</td>\n",
              "    </tr>\n",
              "    <tr>\n",
              "      <th>Goiânia Shopping</th>\n",
              "      <td>463001</td>\n",
              "      <td>4.893406e+07</td>\n",
              "      <td>1.484391e+07</td>\n",
              "      <td>3.409015e+07</td>\n",
              "      <td>73.628681</td>\n",
              "    </tr>\n",
              "    <tr>\n",
              "      <th>Shopping Bougainville</th>\n",
              "      <td>146685</td>\n",
              "      <td>1.592636e+07</td>\n",
              "      <td>4.790325e+06</td>\n",
              "      <td>1.113603e+07</td>\n",
              "      <td>75.917999</td>\n",
              "    </tr>\n",
              "    <tr>\n",
              "      <th>Shopping Flamboyant</th>\n",
              "      <td>576562</td>\n",
              "      <td>6.628006e+07</td>\n",
              "      <td>2.033224e+07</td>\n",
              "      <td>4.594783e+07</td>\n",
              "      <td>79.692775</td>\n",
              "    </tr>\n",
              "    <tr>\n",
              "      <th>Shopping Passeio das Águas</th>\n",
              "      <td>484902</td>\n",
              "      <td>5.212779e+07</td>\n",
              "      <td>1.586424e+07</td>\n",
              "      <td>3.626355e+07</td>\n",
              "      <td>74.785326</td>\n",
              "    </tr>\n",
              "  </tbody>\n",
              "</table>\n",
              "</div>\n",
              "      <button class=\"colab-df-convert\" onclick=\"convertToInteractive('df-1df52f87-0939-49e3-8cb5-d64dad0bbd3d')\"\n",
              "              title=\"Convert this dataframe to an interactive table.\"\n",
              "              style=\"display:none;\">\n",
              "        \n",
              "  <svg xmlns=\"http://www.w3.org/2000/svg\" height=\"24px\"viewBox=\"0 0 24 24\"\n",
              "       width=\"24px\">\n",
              "    <path d=\"M0 0h24v24H0V0z\" fill=\"none\"/>\n",
              "    <path d=\"M18.56 5.44l.94 2.06.94-2.06 2.06-.94-2.06-.94-.94-2.06-.94 2.06-2.06.94zm-11 1L8.5 8.5l.94-2.06 2.06-.94-2.06-.94L8.5 2.5l-.94 2.06-2.06.94zm10 10l.94 2.06.94-2.06 2.06-.94-2.06-.94-.94-2.06-.94 2.06-2.06.94z\"/><path d=\"M17.41 7.96l-1.37-1.37c-.4-.4-.92-.59-1.43-.59-.52 0-1.04.2-1.43.59L10.3 9.45l-7.72 7.72c-.78.78-.78 2.05 0 2.83L4 21.41c.39.39.9.59 1.41.59.51 0 1.02-.2 1.41-.59l7.78-7.78 2.81-2.81c.8-.78.8-2.07 0-2.86zM5.41 20L4 18.59l7.72-7.72 1.47 1.35L5.41 20z\"/>\n",
              "  </svg>\n",
              "      </button>\n",
              "      \n",
              "  <style>\n",
              "    .colab-df-container {\n",
              "      display:flex;\n",
              "      flex-wrap:wrap;\n",
              "      gap: 12px;\n",
              "    }\n",
              "\n",
              "    .colab-df-convert {\n",
              "      background-color: #E8F0FE;\n",
              "      border: none;\n",
              "      border-radius: 50%;\n",
              "      cursor: pointer;\n",
              "      display: none;\n",
              "      fill: #1967D2;\n",
              "      height: 32px;\n",
              "      padding: 0 0 0 0;\n",
              "      width: 32px;\n",
              "    }\n",
              "\n",
              "    .colab-df-convert:hover {\n",
              "      background-color: #E2EBFA;\n",
              "      box-shadow: 0px 1px 2px rgba(60, 64, 67, 0.3), 0px 1px 3px 1px rgba(60, 64, 67, 0.15);\n",
              "      fill: #174EA6;\n",
              "    }\n",
              "\n",
              "    [theme=dark] .colab-df-convert {\n",
              "      background-color: #3B4455;\n",
              "      fill: #D2E3FC;\n",
              "    }\n",
              "\n",
              "    [theme=dark] .colab-df-convert:hover {\n",
              "      background-color: #434B5C;\n",
              "      box-shadow: 0px 1px 3px 1px rgba(0, 0, 0, 0.15);\n",
              "      filter: drop-shadow(0px 1px 2px rgba(0, 0, 0, 0.3));\n",
              "      fill: #FFFFFF;\n",
              "    }\n",
              "  </style>\n",
              "\n",
              "      <script>\n",
              "        const buttonEl =\n",
              "          document.querySelector('#df-1df52f87-0939-49e3-8cb5-d64dad0bbd3d button.colab-df-convert');\n",
              "        buttonEl.style.display =\n",
              "          google.colab.kernel.accessAllowed ? 'block' : 'none';\n",
              "\n",
              "        async function convertToInteractive(key) {\n",
              "          const element = document.querySelector('#df-1df52f87-0939-49e3-8cb5-d64dad0bbd3d');\n",
              "          const dataTable =\n",
              "            await google.colab.kernel.invokeFunction('convertToInteractive',\n",
              "                                                     [key], {});\n",
              "          if (!dataTable) return;\n",
              "\n",
              "          const docLinkHtml = 'Like what you see? Visit the ' +\n",
              "            '<a target=\"_blank\" href=https://colab.research.google.com/notebooks/data_table.ipynb>data table notebook</a>'\n",
              "            + ' to learn more about interactive tables.';\n",
              "          element.innerHTML = '';\n",
              "          dataTable['output_type'] = 'display_data';\n",
              "          await google.colab.output.renderOutput(dataTable, element);\n",
              "          const docLink = document.createElement('div');\n",
              "          docLink.innerHTML = docLinkHtml;\n",
              "          element.appendChild(docLink);\n",
              "        }\n",
              "      </script>\n",
              "    </div>\n",
              "  </div>\n",
              "  "
            ]
          },
          "metadata": {},
          "execution_count": 19
        }
      ],
      "source": [
        "vendas_por_loja['Ticket Médio'] = vendas_por_loja['Lucro'] / vendas_por_loja['Quantidade']\n",
        "vendas_por_loja = vendas_por_loja.rename(columns={'Lucro': 'Faturamento'})\n",
        "vendas_por_loja"
      ]
    },
    {
      "cell_type": "markdown",
      "metadata": {
        "id": "L9kPkkREacw8"
      },
      "source": [
        "##### Produto mais vendido"
      ]
    },
    {
      "cell_type": "code",
      "execution_count": null,
      "metadata": {
        "colab": {
          "base_uri": "https://localhost:8080/"
        },
        "id": "QtGB5SUqa7CO",
        "outputId": "39ece578-9011-4a8b-b726-7a157dec9a1e"
      },
      "outputs": [
        {
          "output_type": "execute_result",
          "data": {
            "text/plain": [
              "                            Quantidade   Valor Total   Custo Total  \\\n",
              "Loja                                                                 \n",
              "Avenida 44                      684989  8.058895e+07  2.378931e+07   \n",
              "Avenida 85                      237822  2.614470e+07  7.864549e+06   \n",
              "Avenida Anhanguera              413549  4.764055e+07  1.431636e+07   \n",
              "Goiânia Shopping                463001  4.893406e+07  1.484391e+07   \n",
              "Shopping Bougainville           146685  1.592636e+07  4.790325e+06   \n",
              "Shopping Flamboyant             576562  6.628006e+07  2.033224e+07   \n",
              "Shopping Passeio das Águas      484902  5.212779e+07  1.586424e+07   \n",
              "\n",
              "                             Faturamento  Ticket Médio Produto Mais Vendido  \n",
              "Loja                                                                         \n",
              "Avenida 44                  5.679964e+07     82.920513             Camiseta  \n",
              "Avenida 85                  1.828016e+07     76.864864               Camisa  \n",
              "Avenida Anhanguera          3.332419e+07     80.580990               Camisa  \n",
              "Goiânia Shopping            3.409015e+07     73.628681               Camisa  \n",
              "Shopping Bougainville       1.113603e+07     75.917999               Camisa  \n",
              "Shopping Flamboyant         4.594783e+07     79.692775               Camisa  \n",
              "Shopping Passeio das Águas  3.626355e+07     74.785326               Camisa  "
            ],
            "text/html": [
              "\n",
              "  <div id=\"df-3a498bde-9f71-47f4-9b1f-9799f4fd57b5\">\n",
              "    <div class=\"colab-df-container\">\n",
              "      <div>\n",
              "<style scoped>\n",
              "    .dataframe tbody tr th:only-of-type {\n",
              "        vertical-align: middle;\n",
              "    }\n",
              "\n",
              "    .dataframe tbody tr th {\n",
              "        vertical-align: top;\n",
              "    }\n",
              "\n",
              "    .dataframe thead th {\n",
              "        text-align: right;\n",
              "    }\n",
              "</style>\n",
              "<table border=\"1\" class=\"dataframe\">\n",
              "  <thead>\n",
              "    <tr style=\"text-align: right;\">\n",
              "      <th></th>\n",
              "      <th>Quantidade</th>\n",
              "      <th>Valor Total</th>\n",
              "      <th>Custo Total</th>\n",
              "      <th>Faturamento</th>\n",
              "      <th>Ticket Médio</th>\n",
              "      <th>Produto Mais Vendido</th>\n",
              "    </tr>\n",
              "    <tr>\n",
              "      <th>Loja</th>\n",
              "      <th></th>\n",
              "      <th></th>\n",
              "      <th></th>\n",
              "      <th></th>\n",
              "      <th></th>\n",
              "      <th></th>\n",
              "    </tr>\n",
              "  </thead>\n",
              "  <tbody>\n",
              "    <tr>\n",
              "      <th>Avenida 44</th>\n",
              "      <td>684989</td>\n",
              "      <td>8.058895e+07</td>\n",
              "      <td>2.378931e+07</td>\n",
              "      <td>5.679964e+07</td>\n",
              "      <td>82.920513</td>\n",
              "      <td>Camiseta</td>\n",
              "    </tr>\n",
              "    <tr>\n",
              "      <th>Avenida 85</th>\n",
              "      <td>237822</td>\n",
              "      <td>2.614470e+07</td>\n",
              "      <td>7.864549e+06</td>\n",
              "      <td>1.828016e+07</td>\n",
              "      <td>76.864864</td>\n",
              "      <td>Camisa</td>\n",
              "    </tr>\n",
              "    <tr>\n",
              "      <th>Avenida Anhanguera</th>\n",
              "      <td>413549</td>\n",
              "      <td>4.764055e+07</td>\n",
              "      <td>1.431636e+07</td>\n",
              "      <td>3.332419e+07</td>\n",
              "      <td>80.580990</td>\n",
              "      <td>Camisa</td>\n",
              "    </tr>\n",
              "    <tr>\n",
              "      <th>Goiânia Shopping</th>\n",
              "      <td>463001</td>\n",
              "      <td>4.893406e+07</td>\n",
              "      <td>1.484391e+07</td>\n",
              "      <td>3.409015e+07</td>\n",
              "      <td>73.628681</td>\n",
              "      <td>Camisa</td>\n",
              "    </tr>\n",
              "    <tr>\n",
              "      <th>Shopping Bougainville</th>\n",
              "      <td>146685</td>\n",
              "      <td>1.592636e+07</td>\n",
              "      <td>4.790325e+06</td>\n",
              "      <td>1.113603e+07</td>\n",
              "      <td>75.917999</td>\n",
              "      <td>Camisa</td>\n",
              "    </tr>\n",
              "    <tr>\n",
              "      <th>Shopping Flamboyant</th>\n",
              "      <td>576562</td>\n",
              "      <td>6.628006e+07</td>\n",
              "      <td>2.033224e+07</td>\n",
              "      <td>4.594783e+07</td>\n",
              "      <td>79.692775</td>\n",
              "      <td>Camisa</td>\n",
              "    </tr>\n",
              "    <tr>\n",
              "      <th>Shopping Passeio das Águas</th>\n",
              "      <td>484902</td>\n",
              "      <td>5.212779e+07</td>\n",
              "      <td>1.586424e+07</td>\n",
              "      <td>3.626355e+07</td>\n",
              "      <td>74.785326</td>\n",
              "      <td>Camisa</td>\n",
              "    </tr>\n",
              "  </tbody>\n",
              "</table>\n",
              "</div>\n",
              "      <button class=\"colab-df-convert\" onclick=\"convertToInteractive('df-3a498bde-9f71-47f4-9b1f-9799f4fd57b5')\"\n",
              "              title=\"Convert this dataframe to an interactive table.\"\n",
              "              style=\"display:none;\">\n",
              "        \n",
              "  <svg xmlns=\"http://www.w3.org/2000/svg\" height=\"24px\"viewBox=\"0 0 24 24\"\n",
              "       width=\"24px\">\n",
              "    <path d=\"M0 0h24v24H0V0z\" fill=\"none\"/>\n",
              "    <path d=\"M18.56 5.44l.94 2.06.94-2.06 2.06-.94-2.06-.94-.94-2.06-.94 2.06-2.06.94zm-11 1L8.5 8.5l.94-2.06 2.06-.94-2.06-.94L8.5 2.5l-.94 2.06-2.06.94zm10 10l.94 2.06.94-2.06 2.06-.94-2.06-.94-.94-2.06-.94 2.06-2.06.94z\"/><path d=\"M17.41 7.96l-1.37-1.37c-.4-.4-.92-.59-1.43-.59-.52 0-1.04.2-1.43.59L10.3 9.45l-7.72 7.72c-.78.78-.78 2.05 0 2.83L4 21.41c.39.39.9.59 1.41.59.51 0 1.02-.2 1.41-.59l7.78-7.78 2.81-2.81c.8-.78.8-2.07 0-2.86zM5.41 20L4 18.59l7.72-7.72 1.47 1.35L5.41 20z\"/>\n",
              "  </svg>\n",
              "      </button>\n",
              "      \n",
              "  <style>\n",
              "    .colab-df-container {\n",
              "      display:flex;\n",
              "      flex-wrap:wrap;\n",
              "      gap: 12px;\n",
              "    }\n",
              "\n",
              "    .colab-df-convert {\n",
              "      background-color: #E8F0FE;\n",
              "      border: none;\n",
              "      border-radius: 50%;\n",
              "      cursor: pointer;\n",
              "      display: none;\n",
              "      fill: #1967D2;\n",
              "      height: 32px;\n",
              "      padding: 0 0 0 0;\n",
              "      width: 32px;\n",
              "    }\n",
              "\n",
              "    .colab-df-convert:hover {\n",
              "      background-color: #E2EBFA;\n",
              "      box-shadow: 0px 1px 2px rgba(60, 64, 67, 0.3), 0px 1px 3px 1px rgba(60, 64, 67, 0.15);\n",
              "      fill: #174EA6;\n",
              "    }\n",
              "\n",
              "    [theme=dark] .colab-df-convert {\n",
              "      background-color: #3B4455;\n",
              "      fill: #D2E3FC;\n",
              "    }\n",
              "\n",
              "    [theme=dark] .colab-df-convert:hover {\n",
              "      background-color: #434B5C;\n",
              "      box-shadow: 0px 1px 3px 1px rgba(0, 0, 0, 0.15);\n",
              "      filter: drop-shadow(0px 1px 2px rgba(0, 0, 0, 0.3));\n",
              "      fill: #FFFFFF;\n",
              "    }\n",
              "  </style>\n",
              "\n",
              "      <script>\n",
              "        const buttonEl =\n",
              "          document.querySelector('#df-3a498bde-9f71-47f4-9b1f-9799f4fd57b5 button.colab-df-convert');\n",
              "        buttonEl.style.display =\n",
              "          google.colab.kernel.accessAllowed ? 'block' : 'none';\n",
              "\n",
              "        async function convertToInteractive(key) {\n",
              "          const element = document.querySelector('#df-3a498bde-9f71-47f4-9b1f-9799f4fd57b5');\n",
              "          const dataTable =\n",
              "            await google.colab.kernel.invokeFunction('convertToInteractive',\n",
              "                                                     [key], {});\n",
              "          if (!dataTable) return;\n",
              "\n",
              "          const docLinkHtml = 'Like what you see? Visit the ' +\n",
              "            '<a target=\"_blank\" href=https://colab.research.google.com/notebooks/data_table.ipynb>data table notebook</a>'\n",
              "            + ' to learn more about interactive tables.';\n",
              "          element.innerHTML = '';\n",
              "          dataTable['output_type'] = 'display_data';\n",
              "          await google.colab.output.renderOutput(dataTable, element);\n",
              "          const docLink = document.createElement('div');\n",
              "          docLink.innerHTML = docLinkHtml;\n",
              "          element.appendChild(docLink);\n",
              "        }\n",
              "      </script>\n",
              "    </div>\n",
              "  </div>\n",
              "  "
            ]
          },
          "metadata": {},
          "execution_count": 20
        }
      ],
      "source": [
        "produtos_mais_vendidos = []\n",
        "\n",
        "for loja in vendas_por_loja.index:\n",
        "    df_loja = vendas.loc[vendas['Loja']==loja]\n",
        "    df_loja_produtos = df_loja[['Produto', 'Quantidade']].groupby('Produto').sum()\n",
        "    produto = df_loja_produtos.loc[df_loja_produtos['Quantidade']==df_loja_produtos['Quantidade'].max()].index[0]\n",
        "    produtos_mais_vendidos.append(produto)\n",
        "vendas_por_loja['Produto Mais Vendido'] = produtos_mais_vendidos\n",
        "vendas_por_loja"
      ]
    },
    {
      "cell_type": "markdown",
      "metadata": {
        "id": "GiQ1eF5nSNbh"
      },
      "source": [
        "##### Gráfico das vendas ao longo do tempo"
      ]
    },
    {
      "cell_type": "code",
      "execution_count": null,
      "metadata": {
        "id": "E59MA9_pSR4L"
      },
      "outputs": [],
      "source": [
        "import matplotlib.pyplot as plt\n",
        "\n",
        "graficos = []\n",
        "\n",
        "for loja in vendas_por_loja.index:\n",
        "    df_loja = venda.loc[venda['Loja']==loja]\n",
        "    df_loja['Ano'] = df_loja['Data'].dt.year\n",
        "    df_loja_por_ano = df_loja[['Ano', 'Lucro']].groupby('Ano').sum()\n",
        "\n",
        "    fig = plt.figure(figsize=(12,7))\n",
        "    plt.bar(x=df_loja_por_ano.index, height=df_loja_por_ano['Lucro'])\n",
        "    plt.xlabel('Ano')\n",
        "    plt.ylabel('Faturamento')\n",
        "    plt.title(f'Faturamento ao longo do tempo da loja {loja}')\n",
        "    graficos.append(fig)\n",
        "\n",
        "vendas_por_loja['Gráficos'] = graficos\n",
        "vendas_por_loja"
      ]
    },
    {
      "cell_type": "markdown",
      "metadata": {
        "id": "95FC1YZSQQXZ"
      },
      "source": [
        "##### Ranking de vendas"
      ]
    },
    {
      "cell_type": "code",
      "execution_count": null,
      "metadata": {
        "colab": {
          "base_uri": "https://localhost:8080/",
          "height": 300
        },
        "id": "MeaBVYPIQS62",
        "outputId": "340cec4c-9ed6-4123-af1d-bc2859e5e64d"
      },
      "outputs": [
        {
          "output_type": "execute_result",
          "data": {
            "text/plain": [
              "                            Quantidade   Faturamento\n",
              "Loja                                                \n",
              "Avenida 44                      684989  5.679964e+07\n",
              "Shopping Flamboyant             576562  4.594783e+07\n",
              "Shopping Passeio das Águas      484902  3.626355e+07\n",
              "Goiânia Shopping                463001  3.409015e+07\n",
              "Avenida Anhanguera              413549  3.332419e+07\n",
              "Avenida 85                      237822  1.828016e+07\n",
              "Shopping Bougainville           146685  1.113603e+07"
            ],
            "text/html": [
              "\n",
              "  <div id=\"df-5c2a10e9-10d9-4db2-905e-fe6ef35f322c\">\n",
              "    <div class=\"colab-df-container\">\n",
              "      <div>\n",
              "<style scoped>\n",
              "    .dataframe tbody tr th:only-of-type {\n",
              "        vertical-align: middle;\n",
              "    }\n",
              "\n",
              "    .dataframe tbody tr th {\n",
              "        vertical-align: top;\n",
              "    }\n",
              "\n",
              "    .dataframe thead th {\n",
              "        text-align: right;\n",
              "    }\n",
              "</style>\n",
              "<table border=\"1\" class=\"dataframe\">\n",
              "  <thead>\n",
              "    <tr style=\"text-align: right;\">\n",
              "      <th></th>\n",
              "      <th>Quantidade</th>\n",
              "      <th>Faturamento</th>\n",
              "    </tr>\n",
              "    <tr>\n",
              "      <th>Loja</th>\n",
              "      <th></th>\n",
              "      <th></th>\n",
              "    </tr>\n",
              "  </thead>\n",
              "  <tbody>\n",
              "    <tr>\n",
              "      <th>Avenida 44</th>\n",
              "      <td>684989</td>\n",
              "      <td>5.679964e+07</td>\n",
              "    </tr>\n",
              "    <tr>\n",
              "      <th>Shopping Flamboyant</th>\n",
              "      <td>576562</td>\n",
              "      <td>4.594783e+07</td>\n",
              "    </tr>\n",
              "    <tr>\n",
              "      <th>Shopping Passeio das Águas</th>\n",
              "      <td>484902</td>\n",
              "      <td>3.626355e+07</td>\n",
              "    </tr>\n",
              "    <tr>\n",
              "      <th>Goiânia Shopping</th>\n",
              "      <td>463001</td>\n",
              "      <td>3.409015e+07</td>\n",
              "    </tr>\n",
              "    <tr>\n",
              "      <th>Avenida Anhanguera</th>\n",
              "      <td>413549</td>\n",
              "      <td>3.332419e+07</td>\n",
              "    </tr>\n",
              "    <tr>\n",
              "      <th>Avenida 85</th>\n",
              "      <td>237822</td>\n",
              "      <td>1.828016e+07</td>\n",
              "    </tr>\n",
              "    <tr>\n",
              "      <th>Shopping Bougainville</th>\n",
              "      <td>146685</td>\n",
              "      <td>1.113603e+07</td>\n",
              "    </tr>\n",
              "  </tbody>\n",
              "</table>\n",
              "</div>\n",
              "      <button class=\"colab-df-convert\" onclick=\"convertToInteractive('df-5c2a10e9-10d9-4db2-905e-fe6ef35f322c')\"\n",
              "              title=\"Convert this dataframe to an interactive table.\"\n",
              "              style=\"display:none;\">\n",
              "        \n",
              "  <svg xmlns=\"http://www.w3.org/2000/svg\" height=\"24px\"viewBox=\"0 0 24 24\"\n",
              "       width=\"24px\">\n",
              "    <path d=\"M0 0h24v24H0V0z\" fill=\"none\"/>\n",
              "    <path d=\"M18.56 5.44l.94 2.06.94-2.06 2.06-.94-2.06-.94-.94-2.06-.94 2.06-2.06.94zm-11 1L8.5 8.5l.94-2.06 2.06-.94-2.06-.94L8.5 2.5l-.94 2.06-2.06.94zm10 10l.94 2.06.94-2.06 2.06-.94-2.06-.94-.94-2.06-.94 2.06-2.06.94z\"/><path d=\"M17.41 7.96l-1.37-1.37c-.4-.4-.92-.59-1.43-.59-.52 0-1.04.2-1.43.59L10.3 9.45l-7.72 7.72c-.78.78-.78 2.05 0 2.83L4 21.41c.39.39.9.59 1.41.59.51 0 1.02-.2 1.41-.59l7.78-7.78 2.81-2.81c.8-.78.8-2.07 0-2.86zM5.41 20L4 18.59l7.72-7.72 1.47 1.35L5.41 20z\"/>\n",
              "  </svg>\n",
              "      </button>\n",
              "      \n",
              "  <style>\n",
              "    .colab-df-container {\n",
              "      display:flex;\n",
              "      flex-wrap:wrap;\n",
              "      gap: 12px;\n",
              "    }\n",
              "\n",
              "    .colab-df-convert {\n",
              "      background-color: #E8F0FE;\n",
              "      border: none;\n",
              "      border-radius: 50%;\n",
              "      cursor: pointer;\n",
              "      display: none;\n",
              "      fill: #1967D2;\n",
              "      height: 32px;\n",
              "      padding: 0 0 0 0;\n",
              "      width: 32px;\n",
              "    }\n",
              "\n",
              "    .colab-df-convert:hover {\n",
              "      background-color: #E2EBFA;\n",
              "      box-shadow: 0px 1px 2px rgba(60, 64, 67, 0.3), 0px 1px 3px 1px rgba(60, 64, 67, 0.15);\n",
              "      fill: #174EA6;\n",
              "    }\n",
              "\n",
              "    [theme=dark] .colab-df-convert {\n",
              "      background-color: #3B4455;\n",
              "      fill: #D2E3FC;\n",
              "    }\n",
              "\n",
              "    [theme=dark] .colab-df-convert:hover {\n",
              "      background-color: #434B5C;\n",
              "      box-shadow: 0px 1px 3px 1px rgba(0, 0, 0, 0.15);\n",
              "      filter: drop-shadow(0px 1px 2px rgba(0, 0, 0, 0.3));\n",
              "      fill: #FFFFFF;\n",
              "    }\n",
              "  </style>\n",
              "\n",
              "      <script>\n",
              "        const buttonEl =\n",
              "          document.querySelector('#df-5c2a10e9-10d9-4db2-905e-fe6ef35f322c button.colab-df-convert');\n",
              "        buttonEl.style.display =\n",
              "          google.colab.kernel.accessAllowed ? 'block' : 'none';\n",
              "\n",
              "        async function convertToInteractive(key) {\n",
              "          const element = document.querySelector('#df-5c2a10e9-10d9-4db2-905e-fe6ef35f322c');\n",
              "          const dataTable =\n",
              "            await google.colab.kernel.invokeFunction('convertToInteractive',\n",
              "                                                     [key], {});\n",
              "          if (!dataTable) return;\n",
              "\n",
              "          const docLinkHtml = 'Like what you see? Visit the ' +\n",
              "            '<a target=\"_blank\" href=https://colab.research.google.com/notebooks/data_table.ipynb>data table notebook</a>'\n",
              "            + ' to learn more about interactive tables.';\n",
              "          element.innerHTML = '';\n",
              "          dataTable['output_type'] = 'display_data';\n",
              "          await google.colab.output.renderOutput(dataTable, element);\n",
              "          const docLink = document.createElement('div');\n",
              "          docLink.innerHTML = docLinkHtml;\n",
              "          element.appendChild(docLink);\n",
              "        }\n",
              "      </script>\n",
              "    </div>\n",
              "  </div>\n",
              "  "
            ]
          },
          "metadata": {},
          "execution_count": 22
        }
      ],
      "source": [
        "ranking = vendas_por_loja[['Quantidade', 'Faturamento']].sort_values(by='Faturamento', ascending=False)\n",
        "ranking"
      ]
    },
    {
      "cell_type": "markdown",
      "metadata": {
        "id": "VF58E5RG9mzJ"
      },
      "source": [
        "##### Função que formata moeda"
      ]
    },
    {
      "cell_type": "code",
      "execution_count": null,
      "metadata": {
        "id": "TScQ5Yyl9p1b"
      },
      "outputs": [],
      "source": [
        "def formata_moeda(numero):\n",
        "    '''Retorna uma string no formato de moeda brasileira\n",
        "    ao receber um número em formato float'''\n",
        "    return str(f'R$ {numero:,.2f}').replace('.', ';').replace(',', '.'). replace(';', ',')"
      ]
    },
    {
      "cell_type": "code",
      "execution_count": null,
      "metadata": {
        "id": "fEt7Lw1M_dRr"
      },
      "outputs": [],
      "source": [
        "ranking['Faturamento'] = [formata_moeda(valor) for valor in ranking['Faturamento']]\n",
        "ranking"
      ]
    },
    {
      "cell_type": "markdown",
      "metadata": {
        "id": "ZGeC6reZ8Qi3"
      },
      "source": [
        "### 5. Envio dos e-mails"
      ]
    },
    {
      "cell_type": "markdown",
      "metadata": {
        "id": "RPD7E2ljXS5x"
      },
      "source": [
        "##### Instalar módulo para envio dos e-mails"
      ]
    },
    {
      "cell_type": "code",
      "execution_count": null,
      "metadata": {
        "colab": {
          "base_uri": "https://localhost:8080/"
        },
        "id": "aE6HOuvyXNpr",
        "outputId": "d6f688a6-632d-4272-ba78-a241a32db148"
      },
      "outputs": [
        {
          "output_type": "stream",
          "name": "stdout",
          "text": [
            "Looking in indexes: https://pypi.org/simple, https://us-python.pkg.dev/colab-wheels/public/simple/\n",
            "Requirement already satisfied: redmail in /usr/local/lib/python3.7/dist-packages (0.4.0)\n",
            "Requirement already satisfied: jinja2 in /usr/local/lib/python3.7/dist-packages (from redmail) (2.11.3)\n",
            "Requirement already satisfied: MarkupSafe>=0.23 in /usr/local/lib/python3.7/dist-packages (from jinja2->redmail) (2.0.1)\n"
          ]
        }
      ],
      "source": [
        "pip install redmail"
      ]
    },
    {
      "cell_type": "markdown",
      "metadata": {
        "id": "2dwICxjEb4zh"
      },
      "source": [
        "##### Enviar e-mails para cada loja"
      ]
    },
    {
      "cell_type": "code",
      "execution_count": null,
      "metadata": {
        "id": "uixL2Qrd8Sow",
        "colab": {
          "base_uri": "https://localhost:8080/"
        },
        "outputId": "fe0236ca-c2c4-4ae7-d03b-1d7c3a53d27e"
      },
      "outputs": [
        {
          "output_type": "stream",
          "name": "stderr",
          "text": [
            "7it [00:11,  1.62s/it]\n"
          ]
        }
      ],
      "source": [
        "from redmail import EmailSender\n",
        "from tqdm import tqdm\n",
        "\n",
        "remetente = 'polipython@gmail.com'\n",
        "senha = 'jtvujhxejnkeuztd'\n",
        "# Senha para MAC: kbsgxekzbbjnmpov\n",
        "\n",
        "email = EmailSender(host='smtp.gmail.com',\n",
        "                    port=587,\n",
        "                    username=remetente,\n",
        "                    password=senha)\n",
        "\n",
        "corpo = '''\n",
        "    <h1>Resultados da loja {{ loja }}</h1>\n",
        "\n",
        "    <p>Resumo dos resultados para a loja <i>{{ loja }}</i> da companhia:</p>\n",
        "\n",
        "    <ul>\n",
        "        <li>Faturamento total de <b>{{ faturamento }}</b></li>\n",
        "        <li><b>{{ quantidade }}</b> peças vendidas</li>\n",
        "        <li>Ticket médio de <b>{{ ticket_medio }}</b></li>\n",
        "        <li><b>{{ produto_mais_vendido }}</b> foi o produto mais vendido</li>\n",
        "    </ul>\n",
        "\n",
        "    <p>Segue o ranking de vendas de todas as lojas:</p>\n",
        "\n",
        "    {{ ranking }}\n",
        "\n",
        "    <p>E os resultados da loja {{ loja }} ao longo do período:</p>\n",
        "\n",
        "    {{ grafico }}\n",
        "\n",
        "    <p>Att.</p>\n",
        "    '''\n",
        "\n",
        "for i, loja in tqdm(enumerate(vendas_por_loja.index)):\n",
        "    destinatario = emails['E-mail'][i]\n",
        "    assunto = f'Resultados da loja {loja}'\n",
        "    grafico = vendas_por_loja['Gráficos'][i]\n",
        "    quantidade = vendas_por_loja['Quantidade'][i]\n",
        "    faturamento = formata_moeda(vendas_por_loja['Faturamento'][i])\n",
        "    ticket_medio = formata_moeda(vendas_por_loja['Ticket Médio'][i])\n",
        "    produto_mais_vendido = vendas_por_loja['Produto Mais Vendido'][i]\n",
        "    \n",
        "    email.send(\n",
        "        subject = assunto,\n",
        "        sender = remetente,\n",
        "        receivers=destinatario,\n",
        "        html=corpo,\n",
        "        body_params={'loja': loja,\n",
        "                    'faturamento': faturamento,\n",
        "                    'quantidade': quantidade,\n",
        "                    'ticket_medio': ticket_medio,\n",
        "                    'produto_mais_vendido': produto_mais_vendido},\n",
        "        body_images={'grafico': grafico},\n",
        "        body_tables={'ranking': ranking}\n",
        "    )"
      ]
    }
  ],
  "metadata": {
    "colab": {
      "provenance": [],
      "include_colab_link": true
    },
    "kernelspec": {
      "display_name": "Python 3",
      "name": "python3"
    },
    "language_info": {
      "name": "python"
    }
  },
  "nbformat": 4,
  "nbformat_minor": 0
}
